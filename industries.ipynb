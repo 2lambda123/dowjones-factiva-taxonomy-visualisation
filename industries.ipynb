{
 "cells": [
  {
   "cell_type": "markdown",
   "metadata": {},
   "source": [
    "# Dow Jones DNA Industries\n",
    "Quick exploration to the Industries hierarchy.\n",
    "\n",
    "Hierarchies may be unbalanced and not all branches have the same depth. This is because the taxonomies are dynamic and change over the time (minor changes month/month). The seen hierarchy uses the main inheritance, which means that there are other hierachical versions when considreing secondary parents."
   ]
  },
  {
   "cell_type": "code",
   "execution_count": 1,
   "metadata": {},
   "outputs": [],
   "source": [
    "import djdna_common.visualisation as dna_vis\n",
    "import plotly.graph_objects as go\n",
    "\n",
    "vis_ind = dna_vis.industries_visual_hierarchy()"
   ]
  },
  {
   "cell_type": "code",
   "execution_count": 2,
   "metadata": {},
   "outputs": [
    {
     "data": {
      "application/vnd.jupyter.widget-view+json": {
       "model_id": "2dc94019218f467fb2a7ccb0e0a76557",
       "version_major": 2,
       "version_minor": 0
      },
      "text/plain": [
       "FigureWidget({\n",
       "    'data': [{'ids': array(['indroot', 'i0', 'i01001', ..., 'i17', 'idesal', 'idishea'],\n",
       "      …"
      ]
     },
     "metadata": {},
     "output_type": "display_data"
    }
   ],
   "source": [
    "fig_ind_data = go.Sunburst(\n",
    "    ids = vis_ind['ind_fcode'],\n",
    "    labels = vis_ind['name'],\n",
    "    parents = vis_ind['parent']\n",
    "    #,values = vis_ind['values']\n",
    ")\n",
    "\n",
    "fig_ind = go.FigureWidget(data = fig_ind_data)\n",
    "fig_ind.update_layout(margin = dict(t=0, l=0, r=0, b=0), width=1000, height=1100)\n",
    "fig_ind"
   ]
  }
 ],
 "metadata": {
  "kernelspec": {
   "display_name": "Python 3",
   "language": "python",
   "name": "python3"
  },
  "language_info": {
   "codemirror_mode": {
    "name": "ipython",
    "version": 3
   },
   "file_extension": ".py",
   "mimetype": "text/x-python",
   "name": "python",
   "nbconvert_exporter": "python",
   "pygments_lexer": "ipython3",
   "version": "3.7.5"
  }
 },
 "nbformat": 4,
 "nbformat_minor": 4
}
