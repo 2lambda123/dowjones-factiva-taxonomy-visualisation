{
 "cells": [
  {
   "cell_type": "markdown",
   "metadata": {},
   "source": [
    "# Dow Jones DNA Regions\n",
    "Quick exploration to the Regions hierarchy.\n",
    "\n",
    "For visiualisation purposes, the hierarchy was balanced using additional nodes marked with an __*__, which are __not__ used within the region fiels. This hierarchy does not change often, but it preserves some hierarchical references that originally had a different depth. The seen hierarchy uses the main inheritance, which means that there are other hierachical versions when considreing secondary parents.\n",
    "\n",
    "__Note:__ This hierarchy is a subset of the original taxonomy, it contains nodes up to country level. If combined with the DNA News Feed, entries will be grouped at country, and any local (state, county, city) region codes are ignored."
   ]
  },
  {
   "cell_type": "code",
   "execution_count": 6,
   "metadata": {},
   "outputs": [],
   "source": [
    "import djdna_common.visualisation as dna_vis\n",
    "import plotly.graph_objects as go\n",
    "\n",
    "reg_ind = dna_vis.regions_visual_hierarchy()"
   ]
  },
  {
   "cell_type": "code",
   "execution_count": 10,
   "metadata": {},
   "outputs": [
    {
     "data": {
      "application/vnd.jupyter.widget-view+json": {
       "model_id": "15fe4e9e81aa4f2390232d259d5cdddc",
       "version_major": 2,
       "version_minor": 0
      },
      "text/plain": [
       "FigureWidget({\n",
       "    'data': [{'ids': array(['WORLD', 'AFRICAZ', 'AMRCSZ', ..., 'VI', 'WALLIS', 'SPSAH'],\n",
       "      …"
      ]
     },
     "metadata": {},
     "output_type": "display_data"
    }
   ],
   "source": [
    "fig_reg_data = go.Sunburst(\n",
    "    ids = reg_ind['reg_fcode'],\n",
    "    labels = reg_ind['name'],\n",
    "    parents = reg_ind['parent']\n",
    "    #,values = reg_ind['values']\n",
    ")\n",
    "\n",
    "fig_reg = go.FigureWidget(data = fig_reg_data)\n",
    "fig_reg.update_layout(margin = dict(t=0, l=0, r=0, b=0), width=1000, height=1100)\n",
    "fig_reg"
   ]
  },
  {
   "cell_type": "code",
   "execution_count": null,
   "metadata": {},
   "outputs": [],
   "source": []
  }
 ],
 "metadata": {
  "kernelspec": {
   "display_name": "Python 3",
   "language": "python",
   "name": "python3"
  },
  "language_info": {
   "codemirror_mode": {
    "name": "ipython",
    "version": 3
   },
   "file_extension": ".py",
   "mimetype": "text/x-python",
   "name": "python",
   "nbconvert_exporter": "python",
   "pygments_lexer": "ipython3",
   "version": "3.7.6"
  }
 },
 "nbformat": 4,
 "nbformat_minor": 4
}
